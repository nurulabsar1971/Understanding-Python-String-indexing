{
 "cells": [
  {
   "cell_type": "code",
   "execution_count": 1,
   "id": "8cb02cf6-bc92-44a1-a39d-aeee3d7292c4",
   "metadata": {},
   "outputs": [
    {
     "name": "stdout",
     "output_type": "stream",
     "text": [
      "Understanding Python String Indexing\n"
     ]
    },
    {
     "data": {
      "text/plain": [
       "'P'"
      ]
     },
     "execution_count": 1,
     "metadata": {},
     "output_type": "execute_result"
    }
   ],
   "source": [
    "print(\"****Understanding Python String Indexing****\")\n",
    "\n",
    "\n",
    "\n",
    "var = \"Python is fun!\"\n",
    "\n",
    "var[ : :] #for print full text or data\n",
    "\n",
    "\n",
    "var[ : :2] #print two characters consecutively\n",
    "\n",
    "var[ :6:] #Print 1st 6 characters\n",
    "\n",
    "var[0] #Print 1st Character\n",
    "\n",
    "var[1] #print 2nd character\n",
    "\n",
    "var[10] #For accessing 11th number character\n",
    "\n",
    "var[-1: :-1] #For accessing negative or reverse full string\n",
    "\n",
    "var[-8:-15:-1] #For accessing first 6 characters in negative\n",
    "\n",
    "var[-1] #for accessing last character\n",
    "\n",
    "var[-2] #Accessing 2nd last character\n",
    "\n",
    "var[-14] #accessing 1st character in negative index\n",
    "\n",
    "var.index(\"f\") #To knowing index number\n",
    "\n",
    "var[0] # To knowing index character\n"
   ]
  },
  {
   "cell_type": "code",
   "execution_count": null,
   "id": "28a85b6b-54da-4ed3-9cd6-ef40ffc7333b",
   "metadata": {},
   "outputs": [],
   "source": []
  }
 ],
 "metadata": {
  "kernelspec": {
   "display_name": "Python 3 (ipykernel)",
   "language": "python",
   "name": "python3"
  },
  "language_info": {
   "codemirror_mode": {
    "name": "ipython",
    "version": 3
   },
   "file_extension": ".py",
   "mimetype": "text/x-python",
   "name": "python",
   "nbconvert_exporter": "python",
   "pygments_lexer": "ipython3",
   "version": "3.11.7"
  }
 },
 "nbformat": 4,
 "nbformat_minor": 5
}
